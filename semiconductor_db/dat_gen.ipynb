{
 "cells": [
  {
   "cell_type": "code",
   "execution_count": 7,
   "id": "128fce5b-1d14-4cab-ac93-de3e59b623cc",
   "metadata": {},
   "outputs": [
    {
     "name": "stdout",
     "output_type": "stream",
     "text": [
      "\n",
      "=== BN ===\n"
     ]
    },
    {
     "name": "stderr",
     "output_type": "stream",
     "text": [
      "/tmp/ipykernel_273046/3699898774.py:65: DeprecationWarning: Accessing summary data through MPRester.summary is deprecated. Please use MPRester.materials.summary instead.\n",
      "  docs = mpr.summary.search(\n",
      "Retrieving SummaryDoc documents: 100%|██████████| 27/27 [00:00<00:00, 647121.19it/s]\n"
     ]
    },
    {
     "name": "stdout",
     "output_type": "stream",
     "text": [
      "✅ Found zincblende form (mp-id: mp-1639)\n",
      "\n",
      "=== BP ===\n"
     ]
    },
    {
     "name": "stderr",
     "output_type": "stream",
     "text": [
      "Retrieving SummaryDoc documents: 100%|██████████| 2/2 [00:00<00:00, 45100.04it/s]\n"
     ]
    },
    {
     "name": "stdout",
     "output_type": "stream",
     "text": [
      "✅ Found zincblende form (mp-id: mp-1479)\n",
      "\n",
      "=== BAs ===\n"
     ]
    },
    {
     "name": "stderr",
     "output_type": "stream",
     "text": [
      "Retrieving SummaryDoc documents: 100%|██████████| 2/2 [00:00<00:00, 55553.70it/s]\n"
     ]
    },
    {
     "name": "stdout",
     "output_type": "stream",
     "text": [
      "✅ Found zincblende form (mp-id: mp-10044)\n",
      "\n",
      "=== BSb ===\n"
     ]
    },
    {
     "name": "stderr",
     "output_type": "stream",
     "text": [
      "Retrieving SummaryDoc documents: 100%|██████████| 1/1 [00:00<00:00, 18641.35it/s]\n"
     ]
    },
    {
     "name": "stdout",
     "output_type": "stream",
     "text": [
      "✅ Found zincblende form (mp-id: mp-997618)\n",
      "\n",
      "=== AlN ===\n"
     ]
    },
    {
     "name": "stderr",
     "output_type": "stream",
     "text": [
      "Retrieving SummaryDoc documents: 100%|██████████| 4/4 [00:00<00:00, 85163.53it/s]\n"
     ]
    },
    {
     "name": "stdout",
     "output_type": "stream",
     "text": [
      "✅ Found zincblende form (mp-id: mp-1700)\n",
      "\n",
      "=== AlP ===\n"
     ]
    },
    {
     "name": "stderr",
     "output_type": "stream",
     "text": [
      "Retrieving SummaryDoc documents: 100%|██████████| 3/3 [00:00<00:00, 49152.00it/s]\n"
     ]
    },
    {
     "name": "stdout",
     "output_type": "stream",
     "text": [
      "✅ Found zincblende form (mp-id: mp-1550)\n",
      "\n",
      "=== AlAs ===\n"
     ]
    },
    {
     "name": "stderr",
     "output_type": "stream",
     "text": [
      "Retrieving SummaryDoc documents: 100%|██████████| 6/6 [00:00<00:00, 111353.20it/s]\n"
     ]
    },
    {
     "name": "stdout",
     "output_type": "stream",
     "text": [
      "✅ Found zincblende form (mp-id: mp-2172)\n",
      "\n",
      "=== AlSb ===\n"
     ]
    },
    {
     "name": "stderr",
     "output_type": "stream",
     "text": [
      "Retrieving SummaryDoc documents: 100%|██████████| 5/5 [00:00<00:00, 124830.48it/s]\n"
     ]
    },
    {
     "name": "stdout",
     "output_type": "stream",
     "text": [
      "✅ Found zincblende form (mp-id: mp-2624)\n",
      "\n",
      "=== GaN ===\n"
     ]
    },
    {
     "name": "stderr",
     "output_type": "stream",
     "text": [
      "Retrieving SummaryDoc documents: 100%|██████████| 44/44 [00:00<00:00, 1139193.68it/s]\n"
     ]
    },
    {
     "name": "stdout",
     "output_type": "stream",
     "text": [
      "✅ Found zincblende form (mp-id: mp-830)\n",
      "\n",
      "=== GaP ===\n"
     ]
    },
    {
     "name": "stderr",
     "output_type": "stream",
     "text": [
      "Retrieving SummaryDoc documents: 100%|██████████| 6/6 [00:00<00:00, 121574.03it/s]\n"
     ]
    },
    {
     "name": "stdout",
     "output_type": "stream",
     "text": [
      "✅ Found zincblende form (mp-id: mp-2490)\n",
      "\n",
      "=== GaAs ===\n"
     ]
    },
    {
     "name": "stderr",
     "output_type": "stream",
     "text": [
      "Retrieving SummaryDoc documents: 100%|██████████| 13/13 [00:00<00:00, 318865.22it/s]\n"
     ]
    },
    {
     "name": "stdout",
     "output_type": "stream",
     "text": [
      "✅ Found zincblende form (mp-id: mp-2534)\n",
      "\n",
      "=== GaSb ===\n"
     ]
    },
    {
     "name": "stderr",
     "output_type": "stream",
     "text": [
      "Retrieving SummaryDoc documents: 100%|██████████| 9/9 [00:00<00:00, 210886.79it/s]\n"
     ]
    },
    {
     "name": "stdout",
     "output_type": "stream",
     "text": [
      "✅ Found zincblende form (mp-id: mp-1156)\n",
      "\n",
      "=== InN ===\n"
     ]
    },
    {
     "name": "stderr",
     "output_type": "stream",
     "text": [
      "Retrieving SummaryDoc documents: 100%|██████████| 3/3 [00:00<00:00, 57985.77it/s]\n"
     ]
    },
    {
     "name": "stdout",
     "output_type": "stream",
     "text": [
      "✅ Found zincblende form (mp-id: mp-20411)\n",
      "\n",
      "=== InP ===\n"
     ]
    },
    {
     "name": "stderr",
     "output_type": "stream",
     "text": [
      "Retrieving SummaryDoc documents: 100%|██████████| 3/3 [00:00<00:00, 77672.30it/s]\n"
     ]
    },
    {
     "name": "stdout",
     "output_type": "stream",
     "text": [
      "✅ Found zincblende form (mp-id: mp-20351)\n",
      "\n",
      "=== InAs ===\n"
     ]
    },
    {
     "name": "stderr",
     "output_type": "stream",
     "text": [
      "Retrieving SummaryDoc documents: 100%|██████████| 5/5 [00:00<00:00, 94042.69it/s]\n"
     ]
    },
    {
     "name": "stdout",
     "output_type": "stream",
     "text": [
      "✅ Found zincblende form (mp-id: mp-20305)\n",
      "\n",
      "=== InSb ===\n"
     ]
    },
    {
     "name": "stderr",
     "output_type": "stream",
     "text": [
      "Retrieving SummaryDoc documents: 100%|██████████| 11/11 [00:00<00:00, 288358.40it/s]\n"
     ]
    },
    {
     "name": "stdout",
     "output_type": "stream",
     "text": [
      "✅ Found zincblende form (mp-id: mp-20012)\n",
      "\n",
      "✅ All convergence-test folders created successfully.\n"
     ]
    }
   ],
   "source": [
    "#!/usr/bin/env python3\n",
    "\"\"\"\n",
    "Generate convergence-test directories for cubic III–V semiconductors (zincblende form)\n",
    "using Materials Project data and local VASP pseudopotentials (NERSC, Jupyter version).\n",
    "\"\"\"\n",
    "\n",
    "# === Environment setup (Jupyter-friendly) ===\n",
    "import os\n",
    "os.environ[\"PMG_VASP_PSP_DIR\"] = \"/global/homes/x/xiaozha/pp/\"\n",
    "\n",
    "from pymatgen.ext.matproj import MPRester\n",
    "from pymatgen.io.vasp.sets import MPStaticSet\n",
    "from pymatgen.io.vasp.inputs import Potcar, Kpoints\n",
    "\n",
    "Potcar.POTCAR_DIR = os.environ[\"PMG_VASP_PSP_DIR\"]\n",
    "\n",
    "# === USER SETTINGS ===\n",
    "root_dir = \"./convergence_tests\"\n",
    "III = [\"B\", \"Al\", \"Ga\", \"In\"]\n",
    "V = [\"N\", \"P\", \"As\", \"Sb\"]\n",
    "kgrids = [(4, 4, 4), (6, 6, 6), (8, 8, 8), (10, 10, 10), (12,12,12)]\n",
    "encuts = [300, 400, 500, 600, 700]\n",
    "\n",
    "mpr = MPRester(\"RXi5d8z5XEhPXDtNTHxuiYP5FTX5ObEN\")\n",
    "\n",
    "COMMON_INCAR = {\n",
    "    \"NSW\": 0,\n",
    "    \"ISMEAR\": 0,\n",
    "    \"SIGMA\": 0.0001,\n",
    "    \"PREC\": \"Normal\",\n",
    "    \"ISYM\": 2,\n",
    "    \"KPAR\": 4,\n",
    "    \"EDIFF\": 1e-6\n",
    "}\n",
    "\n",
    "# === Utility helpers ===\n",
    "def safe_mkdir(path):\n",
    "    os.makedirs(path, exist_ok=True)\n",
    "\n",
    "def write_slurm_script(path, jobname):\n",
    "    \"\"\"Create a small submit.slurm file under each folder.\"\"\"\n",
    "    slurm_script = f\"\"\"#!/bin/bash -l\n",
    "#SBATCH -J {jobname}\n",
    "#SBATCH -A <YOUR_ALLOCATION>\n",
    "#SBATCH -C cpu\n",
    "#SBATCH -q regular\n",
    "#SBATCH -t 01:00:00\n",
    "#SBATCH -N 1\n",
    "#SBATCH --ntasks-per-node=64\n",
    "#SBATCH --cpus-per-task=1\n",
    "\n",
    "module load vasp/6.4.3\n",
    "srun vasp_std > vasp.out\n",
    "\"\"\"\n",
    "    with open(os.path.join(path, \"submit.slurm\"), \"w\") as f:\n",
    "        f.write(slurm_script)\n",
    "\n",
    "# === MAIN LOOP ===\n",
    "for a in III:\n",
    "    for b in V:\n",
    "        formula = f\"{a}{b}\"\n",
    "        print(f\"\\n=== {formula} ===\")\n",
    "\n",
    "        # Query Materials Project\n",
    "        docs = mpr.summary.search(\n",
    "            formula=formula,\n",
    "            fields=[\"material_id\", \"symmetry\", \"structure\", \"energy_above_hull\"],\n",
    "        )\n",
    "        if not docs:\n",
    "            print(f\"⚠️ No entry found for {formula}\")\n",
    "            continue\n",
    "\n",
    "        # Pick cubic zincblende (SG 216 = F-43m)\n",
    "        structure = None\n",
    "        for doc in docs:\n",
    "            sgnum = getattr(doc.symmetry, \"number\", None)\n",
    "            if sgnum == 216:\n",
    "                structure = doc.structure\n",
    "                print(f\"✅ Found zincblende form (mp-id: {doc.material_id})\")\n",
    "                break\n",
    "        if structure is None:\n",
    "            print(f\"⚠️ No cubic zincblende form found for {formula}\")\n",
    "            continue\n",
    "\n",
    "        # === Base directory ===\n",
    "        mat_dir = os.path.join(root_dir, formula)\n",
    "        safe_mkdir(mat_dir)\n",
    "\n",
    "        # ===== K-POINT CONVERGENCE =====\n",
    "        conv_k_dir = os.path.join(mat_dir, \"conv_kpt\")\n",
    "        safe_mkdir(conv_k_dir)\n",
    "        for kgrid in kgrids:\n",
    "            subdir = os.path.join(conv_k_dir, f\"k{kgrid[0]}x{kgrid[1]}x{kgrid[2]}\")\n",
    "            safe_mkdir(subdir)\n",
    "\n",
    "            incar = COMMON_INCAR | {\"ENCUT\": 500}\n",
    "            vasp_set = MPStaticSet(structure, user_incar_settings=incar)\n",
    "            vasp_set.write_input(subdir)\n",
    "\n",
    "            # Overwrite KPOINTS explicitly\n",
    "            kpoints = Kpoints.monkhorst_automatic(kpts=kgrid, shift=(0, 0, 0))\n",
    "            kpoints.comment = f\"Gamma-centered {kgrid[0]}x{kgrid[1]}x{kgrid[2]}\"\n",
    "            kpoints.style = \"Gamma\"\n",
    "            kpoints.write_file(os.path.join(subdir, \"KPOINTS\"))\n",
    "\n",
    "            write_slurm_script(subdir, f\"{formula}_k{kgrid[0]}\")\n",
    "\n",
    "        # ===== ENCUT CONVERGENCE =====\n",
    "        conv_e_dir = os.path.join(mat_dir, \"conv_cutoff\")\n",
    "        safe_mkdir(conv_e_dir)\n",
    "        for e in encuts:\n",
    "            subdir = os.path.join(conv_e_dir, f\"E{e}\")\n",
    "            safe_mkdir(subdir)\n",
    "\n",
    "            incar = COMMON_INCAR | {\"ENCUT\": e}\n",
    "            vasp_set = MPStaticSet(structure, user_incar_settings=incar)\n",
    "            vasp_set.write_input(subdir)\n",
    "            write_slurm_script(subdir, f\"{formula}_E{e}\")\n",
    "\n",
    "print(\"\\n✅ All convergence-test folders created successfully.\")\n"
   ]
  },
  {
   "cell_type": "code",
   "execution_count": null,
   "id": "1cbc8cb5-75c1-4c85-9edd-9b45cfe1af2f",
   "metadata": {},
   "outputs": [],
   "source": []
  }
 ],
 "metadata": {
  "kernelspec": {
   "display_name": "epwpy",
   "language": "python",
   "name": "epwpy"
  },
  "language_info": {
   "codemirror_mode": {
    "name": "ipython",
    "version": 3
   },
   "file_extension": ".py",
   "mimetype": "text/x-python",
   "name": "python",
   "nbconvert_exporter": "python",
   "pygments_lexer": "ipython3",
   "version": "3.12.9"
  }
 },
 "nbformat": 4,
 "nbformat_minor": 5
}
